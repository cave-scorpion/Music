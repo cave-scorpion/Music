{
 "cells": [
  {
   "cell_type": "code",
   "execution_count": null,
   "id": "3e903fd4-6187-4812-b7f8-059eea97d5e6",
   "metadata": {},
   "outputs": [],
   "source": [
    "import wave\n",
    "import numpy as np\n",
    "import os\n",
    "import shutil as shutil\n",
    "\n",
    "def calculate_rms(file_path):\n",
    "    \"\"\"Return RMS of a mono WAV file.\"\"\"\n",
    "    with wave.open(file_path, 'rb') as wav_file:\n",
    "        samples = wav_file.getnframes()\n",
    "        audio_data = wav_file.readframes(samples)\n",
    "        # Convert the audio data to a NumPy array\n",
    "        audio_array = np.frombuffer(audio_data, dtype=np.int16) / 2 ** 15\n",
    "        return np.sqrt(np.mean(np.square(audio_array)))\n",
    "\n",
    "path = \"E:/IMPORT/Drums - One Shots/\" ## Change this to be one directory above your sample folder\n",
    "sample_folder = \"Kicks\" ## Name of your sample folder\n",
    "sample_list = {}\n",
    "for sample in sorted(os.listdir(path+sample_folder+\"/\")):\n",
    "    #print(sample)\n",
    "    rms_value = calculate_rms(path+sample_folder+\"/\"+sample)\n",
    "    #print(sample, f'RMS value: {rms_value} linear, {20 * np.log10(rms_value)} dB.')\n",
    "    new_entry = {sample: rms_value}\n",
    "    sample_list.update(new_entry)\n",
    "\n",
    "sample_list_sorted = sorted(sample_list.items(), key=lambda x:x[1], reverse = True)\n",
    "\n",
    "if not os.path.exists(path+\"/\"+sample_folder+\"_RMS\"):\n",
    "   os.makedirs(path+\"/\"+sample_folder+\"_RMS\")\n",
    "\n",
    "for samples in range(len(sample_list_sorted)):\n",
    "    shutil.copy(path+sample_folder+\"/\"+sample_list_sorted[samples][0], path+\"/\"+sample_folder+\"_RMS/\"+str(samples+1)+'-'+sample_list_sorted[samples][0])\n",
    "\n",
    "print('Sorted directory: '+path+sample_folder+\"_RMS\")"
   ]
  },
  {
   "cell_type": "code",
   "execution_count": null,
   "id": "93c3b901-9b3b-4cda-8051-afcf1c6c9ace",
   "metadata": {},
   "outputs": [],
   "source": []
  },
  {
   "cell_type": "code",
   "execution_count": null,
   "id": "38cca09f-6292-4bbb-b7b8-6e84fe3f1b1b",
   "metadata": {},
   "outputs": [],
   "source": []
  }
 ],
 "metadata": {
  "kernelspec": {
   "display_name": "Python 3 (ipykernel)",
   "language": "python",
   "name": "python3"
  },
  "language_info": {
   "codemirror_mode": {
    "name": "ipython",
    "version": 3
   },
   "file_extension": ".py",
   "mimetype": "text/x-python",
   "name": "python",
   "nbconvert_exporter": "python",
   "pygments_lexer": "ipython3",
   "version": "3.12.4"
  }
 },
 "nbformat": 4,
 "nbformat_minor": 5
}
